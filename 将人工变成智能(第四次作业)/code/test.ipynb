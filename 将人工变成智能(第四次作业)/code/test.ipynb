{
 "metadata": {
  "language_info": {
   "codemirror_mode": {
    "name": "ipython",
    "version": 3
   },
   "file_extension": ".py",
   "mimetype": "text/x-python",
   "name": "python",
   "nbconvert_exporter": "python",
   "pygments_lexer": "ipython3",
   "version": "3.8.5"
  },
  "orig_nbformat": 4,
  "kernelspec": {
   "name": "python3",
   "display_name": "Python 3.8.5 64-bit ('dl': conda)"
  },
  "interpreter": {
   "hash": "a4a9b591a5d8c15248c8dae710090e12d42714cfc3a769cf18774ca735c05456"
  }
 },
 "nbformat": 4,
 "nbformat_minor": 2,
 "cells": [
  {
   "cell_type": "code",
   "execution_count": 4,
   "metadata": {},
   "outputs": [],
   "source": [
    "import pandas as pd\n",
    "from pandas import DataFrame\n",
    "from sklearn.model_selection import train_test_split\n",
    "from sklearn.svm import SVC \n",
    "import os\n",
    "from sklearn.metrics import classification_report\n",
    "import boto3"
   ]
  },
  {
   "cell_type": "code",
   "execution_count": 5,
   "metadata": {},
   "outputs": [],
   "source": [
    "df = pd.read_csv(\"water.csv\")"
   ]
  },
  {
   "cell_type": "code",
   "execution_count": 12,
   "metadata": {},
   "outputs": [
    {
     "output_type": "execute_result",
     "data": {
      "text/plain": [
       "ph                  True\n",
       "Hardness           False\n",
       "Solids             False\n",
       "Chloramines        False\n",
       "Sulfate             True\n",
       "Conductivity       False\n",
       "Organic_carbon     False\n",
       "Trihalomethanes     True\n",
       "Turbidity          False\n",
       "Potability         False\n",
       "dtype: bool"
      ]
     },
     "metadata": {},
     "execution_count": 12
    }
   ],
   "source": [
    "(df.isna()==True).any()"
   ]
  },
  {
   "cell_type": "code",
   "execution_count": 13,
   "metadata": {},
   "outputs": [],
   "source": [
    "df = df.fillna(df.mean())"
   ]
  },
  {
   "cell_type": "code",
   "execution_count": 16,
   "metadata": {},
   "outputs": [],
   "source": [
    "Y = df['Potability']\n",
    "X = df.drop(columns=['Potability'], axis=1)\n",
    "X_train, X_test, y_train, y_test = train_test_split(X, Y, test_size=0.3, random_state=33)"
   ]
  },
  {
   "cell_type": "code",
   "execution_count": 19,
   "metadata": {},
   "outputs": [],
   "source": [
    "\n",
    "# SVM Classifier  \n",
    "def svm_classifier(train_x, train_y):\n",
    "    model = SVC(kernel='rbf', probability=True)  \n",
    "    model.fit(train_x, train_y)  \n",
    "    return model"
   ]
  },
  {
   "cell_type": "code",
   "execution_count": 20,
   "metadata": {},
   "outputs": [
    {
     "output_type": "stream",
     "name": "stdout",
     "text": [
      "              precision    recall  f1-score   support\n\n           0       0.62      1.00      0.77       612\n           1       0.33      0.00      0.01       371\n\n    accuracy                           0.62       983\n   macro avg       0.48      0.50      0.39       983\nweighted avg       0.51      0.62      0.48       983\n\n"
     ]
    }
   ],
   "source": [
    "# training...\n",
    "model = svm_classifier(X_train,y_train)\n",
    "y_pred = model.predict(X_test)\n",
    "\n",
    "# evaluating...\n",
    "print(classification_report(y_test, y_pred))"
   ]
  },
  {
   "cell_type": "code",
   "execution_count": 22,
   "metadata": {},
   "outputs": [
    {
     "output_type": "stream",
     "name": "stdout",
     "text": [
      "save the predict result!\n"
     ]
    }
   ],
   "source": [
    "# concating...\n",
    "X_test = X_test.reset_index(drop=True)\n",
    "y_predt = DataFrame(y_pred)\n",
    "y_predt.columns = ['predict']\n",
    "result = pd.concat([X_test, y_predt], axis=1)\n",
    "print(\"save the predict result!\")\n",
    "result.to_csv('result.csv', index=0)"
   ]
  },
  {
   "cell_type": "code",
   "execution_count": 25,
   "metadata": {},
   "outputs": [
    {
     "output_type": "stream",
     "name": "stdout",
     "text": [
      "upload succeed!\n"
     ]
    }
   ],
   "source": [
    "# uploading...\n",
    "aws_bucket_name = 'liuyixin'\n",
    "s3 = boto3.client('s3',\n",
    "                  aws_access_key_id='E441571B4C6B777EB1F8',\n",
    "                  aws_secret_access_key='WzY1QTg4N0JBOTBGQUJFOUNDQTZERTlFMDRBMkI1',\n",
    "                  endpoint_url='http://scut.depts.bingosoft.net:29997')\n",
    "s3.upload_file('result.csv', 'liuyixin', 'result.csv')\n",
    "print('upload succeed!')"
   ]
  }
 ]
}